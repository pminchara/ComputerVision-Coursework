{
  "nbformat": 4,
  "nbformat_minor": 0,
  "metadata": {
    "kernelspec": {
      "display_name": "Python 3",
      "language": "python",
      "name": "python3"
    },
    "language_info": {
      "codemirror_mode": {
        "name": "ipython",
        "version": 3
      },
      "file_extension": ".py",
      "mimetype": "text/x-python",
      "name": "python",
      "nbconvert_exporter": "python",
      "pygments_lexer": "ipython3",
      "version": "3.6.8"
    },
    "colab": {
      "name": "Tensorboard-Experiments.ipynb",
      "provenance": [],
      "collapsed_sections": [],
      "toc_visible": true
    },
    "accelerator": "GPU",
    "widgets": {
      "application/vnd.jupyter.widget-state+json": {
        "e862941b32a443f3b34252de96d4da6f": {
          "model_module": "@jupyter-widgets/controls",
          "model_name": "HBoxModel",
          "state": {
            "_view_name": "HBoxView",
            "_dom_classes": [],
            "_model_name": "HBoxModel",
            "_view_module": "@jupyter-widgets/controls",
            "_model_module_version": "1.5.0",
            "_view_count": null,
            "_view_module_version": "1.5.0",
            "box_style": "",
            "layout": "IPY_MODEL_1482e5dc2ab249c58226458306cf70f0",
            "_model_module": "@jupyter-widgets/controls",
            "children": [
              "IPY_MODEL_ec9d437f2908412daaf7d67b91d18da8",
              "IPY_MODEL_a2f652f16d1840238d8a2b51ed733101"
            ]
          }
        },
        "1482e5dc2ab249c58226458306cf70f0": {
          "model_module": "@jupyter-widgets/base",
          "model_name": "LayoutModel",
          "state": {
            "_view_name": "LayoutView",
            "grid_template_rows": null,
            "right": null,
            "justify_content": null,
            "_view_module": "@jupyter-widgets/base",
            "overflow": null,
            "_model_module_version": "1.2.0",
            "_view_count": null,
            "flex_flow": null,
            "width": null,
            "min_width": null,
            "border": null,
            "align_items": null,
            "bottom": null,
            "_model_module": "@jupyter-widgets/base",
            "top": null,
            "grid_column": null,
            "overflow_y": null,
            "overflow_x": null,
            "grid_auto_flow": null,
            "grid_area": null,
            "grid_template_columns": null,
            "flex": null,
            "_model_name": "LayoutModel",
            "justify_items": null,
            "grid_row": null,
            "max_height": null,
            "align_content": null,
            "visibility": null,
            "align_self": null,
            "height": null,
            "min_height": null,
            "padding": null,
            "grid_auto_rows": null,
            "grid_gap": null,
            "max_width": null,
            "order": null,
            "_view_module_version": "1.2.0",
            "grid_template_areas": null,
            "object_position": null,
            "object_fit": null,
            "grid_auto_columns": null,
            "margin": null,
            "display": null,
            "left": null
          }
        },
        "ec9d437f2908412daaf7d67b91d18da8": {
          "model_module": "@jupyter-widgets/controls",
          "model_name": "FloatProgressModel",
          "state": {
            "_view_name": "ProgressView",
            "style": "IPY_MODEL_680a50c7f5e14dfca3a3536b5705ee03",
            "_dom_classes": [],
            "description": "",
            "_model_name": "FloatProgressModel",
            "bar_style": "info",
            "max": 1,
            "_view_module": "@jupyter-widgets/controls",
            "_model_module_version": "1.5.0",
            "value": 1,
            "_view_count": null,
            "_view_module_version": "1.5.0",
            "orientation": "horizontal",
            "min": 0,
            "description_tooltip": null,
            "_model_module": "@jupyter-widgets/controls",
            "layout": "IPY_MODEL_2c1f1a92f320483380d211bcd9733d27"
          }
        },
        "a2f652f16d1840238d8a2b51ed733101": {
          "model_module": "@jupyter-widgets/controls",
          "model_name": "HTMLModel",
          "state": {
            "_view_name": "HTMLView",
            "style": "IPY_MODEL_0013c7b1aa3f45bb8675f751fb3040c9",
            "_dom_classes": [],
            "description": "",
            "_model_name": "HTMLModel",
            "placeholder": "​",
            "_view_module": "@jupyter-widgets/controls",
            "_model_module_version": "1.5.0",
            "value": " 170500096/? [00:20&lt;00:00, 84775768.34it/s]",
            "_view_count": null,
            "_view_module_version": "1.5.0",
            "description_tooltip": null,
            "_model_module": "@jupyter-widgets/controls",
            "layout": "IPY_MODEL_b0ee8360fa48466d9f0d215e047aba2a"
          }
        },
        "680a50c7f5e14dfca3a3536b5705ee03": {
          "model_module": "@jupyter-widgets/controls",
          "model_name": "ProgressStyleModel",
          "state": {
            "_view_name": "StyleView",
            "_model_name": "ProgressStyleModel",
            "description_width": "initial",
            "_view_module": "@jupyter-widgets/base",
            "_model_module_version": "1.5.0",
            "_view_count": null,
            "_view_module_version": "1.2.0",
            "bar_color": null,
            "_model_module": "@jupyter-widgets/controls"
          }
        },
        "2c1f1a92f320483380d211bcd9733d27": {
          "model_module": "@jupyter-widgets/base",
          "model_name": "LayoutModel",
          "state": {
            "_view_name": "LayoutView",
            "grid_template_rows": null,
            "right": null,
            "justify_content": null,
            "_view_module": "@jupyter-widgets/base",
            "overflow": null,
            "_model_module_version": "1.2.0",
            "_view_count": null,
            "flex_flow": null,
            "width": null,
            "min_width": null,
            "border": null,
            "align_items": null,
            "bottom": null,
            "_model_module": "@jupyter-widgets/base",
            "top": null,
            "grid_column": null,
            "overflow_y": null,
            "overflow_x": null,
            "grid_auto_flow": null,
            "grid_area": null,
            "grid_template_columns": null,
            "flex": null,
            "_model_name": "LayoutModel",
            "justify_items": null,
            "grid_row": null,
            "max_height": null,
            "align_content": null,
            "visibility": null,
            "align_self": null,
            "height": null,
            "min_height": null,
            "padding": null,
            "grid_auto_rows": null,
            "grid_gap": null,
            "max_width": null,
            "order": null,
            "_view_module_version": "1.2.0",
            "grid_template_areas": null,
            "object_position": null,
            "object_fit": null,
            "grid_auto_columns": null,
            "margin": null,
            "display": null,
            "left": null
          }
        },
        "0013c7b1aa3f45bb8675f751fb3040c9": {
          "model_module": "@jupyter-widgets/controls",
          "model_name": "DescriptionStyleModel",
          "state": {
            "_view_name": "StyleView",
            "_model_name": "DescriptionStyleModel",
            "description_width": "",
            "_view_module": "@jupyter-widgets/base",
            "_model_module_version": "1.5.0",
            "_view_count": null,
            "_view_module_version": "1.2.0",
            "_model_module": "@jupyter-widgets/controls"
          }
        },
        "b0ee8360fa48466d9f0d215e047aba2a": {
          "model_module": "@jupyter-widgets/base",
          "model_name": "LayoutModel",
          "state": {
            "_view_name": "LayoutView",
            "grid_template_rows": null,
            "right": null,
            "justify_content": null,
            "_view_module": "@jupyter-widgets/base",
            "overflow": null,
            "_model_module_version": "1.2.0",
            "_view_count": null,
            "flex_flow": null,
            "width": null,
            "min_width": null,
            "border": null,
            "align_items": null,
            "bottom": null,
            "_model_module": "@jupyter-widgets/base",
            "top": null,
            "grid_column": null,
            "overflow_y": null,
            "overflow_x": null,
            "grid_auto_flow": null,
            "grid_area": null,
            "grid_template_columns": null,
            "flex": null,
            "_model_name": "LayoutModel",
            "justify_items": null,
            "grid_row": null,
            "max_height": null,
            "align_content": null,
            "visibility": null,
            "align_self": null,
            "height": null,
            "min_height": null,
            "padding": null,
            "grid_auto_rows": null,
            "grid_gap": null,
            "max_width": null,
            "order": null,
            "_view_module_version": "1.2.0",
            "grid_template_areas": null,
            "object_position": null,
            "object_fit": null,
            "grid_auto_columns": null,
            "margin": null,
            "display": null,
            "left": null
          }
        }
      }
    }
  },
  "cells": [
    {
      "cell_type": "markdown",
      "metadata": {
        "id": "scdx9EkkhMVD"
      },
      "source": [
        "\n",
        "# Training a Classifier with Tensorboard\n",
        "\n",
        "1. Import your libraries\n",
        "2. Load the Dataset & Make the Dataset Iterable\n",
        "3. Visualize the Data\n",
        "4. Define the Network\n",
        "5. Define Loss Function and Optimizer\n",
        "6. Train the network\n",
        "7. Save the model\n",
        "8. Test the Network\n",
        "9. Tensorboard\n"
      ]
    },
    {
      "cell_type": "markdown",
      "metadata": {
        "id": "CUcGYDW1hoak"
      },
      "source": [
        "# Step 1:Import the libraries"
      ]
    },
    {
      "cell_type": "code",
      "metadata": {
        "id": "Z2c-VLLKhMVD",
        "colab": {
          "base_uri": "https://localhost:8080/"
        },
        "outputId": "efdb533a-f9ff-44cb-cdef-45401a864354"
      },
      "source": [
        "# Imports\n",
        "import torch\n",
        "import torchvision\n",
        "import torchvision.transforms as transforms\n",
        "\n",
        "# Tensorboard - Writer will output to ./runs/ directory by default\n",
        "from torch.utils.tensorboard import SummaryWriter\n",
        "writer = SummaryWriter('runs/CIFAR_Experiment_6')\n",
        "\n",
        "# Load the TensorBoard notebook extension\n",
        "%load_ext tensorboard\n",
        "\n",
        "# check PyTorch versions\n",
        "print(torch.__version__)\n",
        "print(torchvision.__version__)"
      ],
      "execution_count": 1,
      "outputs": [
        {
          "output_type": "stream",
          "text": [
            "1.7.0+cu101\n",
            "0.8.1+cu101\n"
          ],
          "name": "stdout"
        }
      ]
    },
    {
      "cell_type": "markdown",
      "metadata": {
        "id": "rCFbJxE5hMVG"
      },
      "source": [
        "# Step 2:  Load the Dataset & Make the Dataset Iterable\n"
      ]
    },
    {
      "cell_type": "code",
      "metadata": {
        "id": "gzC9G_6uhMVG",
        "colab": {
          "base_uri": "https://localhost:8080/",
          "height": 99,
          "referenced_widgets": [
            "e862941b32a443f3b34252de96d4da6f",
            "1482e5dc2ab249c58226458306cf70f0",
            "ec9d437f2908412daaf7d67b91d18da8",
            "a2f652f16d1840238d8a2b51ed733101",
            "680a50c7f5e14dfca3a3536b5705ee03",
            "2c1f1a92f320483380d211bcd9733d27",
            "0013c7b1aa3f45bb8675f751fb3040c9",
            "b0ee8360fa48466d9f0d215e047aba2a"
          ]
        },
        "outputId": "1729e7a4-58a5-41bc-811b-185e3d917a42"
      },
      "source": [
        "# Define a transform to normalize the data\n",
        "transform = transforms.Compose(\n",
        "    [transforms.ToTensor(),\n",
        "     transforms.Normalize((0.5, 0.5, 0.5), (0.5, 0.5, 0.5))]) # 3 channels (RGB) for colored images\n",
        "\n",
        "# Download the training datasets\n",
        "trainset = torchvision.datasets.CIFAR10(root='./data', train=True,\n",
        "                                        download=True, transform=transform)\n",
        "# Make the Dataset Iterable -change 8 instead of 4\n",
        "trainloader = torch.utils.data.DataLoader(trainset, batch_size=4,\n",
        "                                          shuffle=True, num_workers=2)\n",
        "\n",
        "# Download the test datasets\n",
        "testset = torchvision.datasets.CIFAR10(root='./data', train=False,\n",
        "                                       download=True, transform=transform)\n",
        "# Make the Dataset Iterable\n",
        "testloader = torch.utils.data.DataLoader(testset, batch_size=4,\n",
        "                                         shuffle=False, num_workers=2)\n",
        "\n",
        "classes = ('plane', 'car', 'bird', 'cat',\n",
        "           'deer', 'dog', 'frog', 'horse', 'ship', 'truck')"
      ],
      "execution_count": 2,
      "outputs": [
        {
          "output_type": "stream",
          "text": [
            "Downloading https://www.cs.toronto.edu/~kriz/cifar-10-python.tar.gz to ./data/cifar-10-python.tar.gz\n"
          ],
          "name": "stdout"
        },
        {
          "output_type": "display_data",
          "data": {
            "application/vnd.jupyter.widget-view+json": {
              "model_id": "e862941b32a443f3b34252de96d4da6f",
              "version_minor": 0,
              "version_major": 2
            },
            "text/plain": [
              "HBox(children=(FloatProgress(value=1.0, bar_style='info', max=1.0), HTML(value='')))"
            ]
          },
          "metadata": {
            "tags": []
          }
        },
        {
          "output_type": "stream",
          "text": [
            "Extracting ./data/cifar-10-python.tar.gz to ./data\n",
            "Files already downloaded and verified\n"
          ],
          "name": "stdout"
        }
      ]
    },
    {
      "cell_type": "markdown",
      "metadata": {
        "id": "_47n9-1li216"
      },
      "source": [
        "# Step 3: Visualize the Data"
      ]
    },
    {
      "cell_type": "code",
      "metadata": {
        "id": "o8ROCqPSi28g",
        "colab": {
          "base_uri": "https://localhost:8080/",
          "height": 34
        },
        "outputId": "b015141a-8fe9-482e-bfc4-49ebf73a3ea3"
      },
      "source": [
        "# How long is the dataset\n",
        "len(trainset)"
      ],
      "execution_count": null,
      "outputs": [
        {
          "output_type": "execute_result",
          "data": {
            "text/plain": [
              "50000"
            ]
          },
          "metadata": {
            "tags": []
          },
          "execution_count": 62
        }
      ]
    },
    {
      "cell_type": "code",
      "metadata": {
        "id": "jGQezmlOjaPw",
        "colab": {
          "base_uri": "https://localhost:8080/",
          "height": 34
        },
        "outputId": "d2e2a6e0-438e-415b-9d3a-a30a666a1adc"
      },
      "source": [
        "# To access indivisual object from the dataset\n",
        "sample = next(iter(trainset)) # train_set will produce 1 image\n",
        "image, label= sample \n",
        "image.shape"
      ],
      "execution_count": null,
      "outputs": [
        {
          "output_type": "execute_result",
          "data": {
            "text/plain": [
              "torch.Size([3, 32, 32])"
            ]
          },
          "metadata": {
            "tags": []
          },
          "execution_count": 63
        }
      ]
    },
    {
      "cell_type": "markdown",
      "metadata": {
        "id": "XIxhewothMVJ"
      },
      "source": [
        "## Display a sample grid of images\n",
        "\n"
      ]
    },
    {
      "cell_type": "code",
      "metadata": {
        "id": "2x09ZRM1OUY6",
        "colab": {
          "base_uri": "https://localhost:8080/",
          "height": 138
        },
        "outputId": "bfcf31da-7450-474a-f8d5-c8ac4f520cad"
      },
      "source": [
        "import matplotlib.pyplot as plt\n",
        "import numpy as np\n",
        "%matplotlib inline\n",
        "\n",
        "# to get and show proper images\n",
        "def show_img(img):\n",
        "    # unnormalize the images\n",
        "    img = img / 2 + 0.5 \n",
        "    npimg = img.numpy()\n",
        "    plt.imshow(np.transpose(npimg, (1, 2, 0)))\n",
        "    return npimg # return the unnormalized images\n",
        "\n",
        "# get images \n",
        "dataiter = iter(trainloader)\n",
        "images, labels = dataiter.next()\n",
        "# create grid of images\n",
        "img_grid = torchvision.utils.make_grid(images)\n",
        "# get and show the unnormalized images\n",
        "img_grid = show_img(img_grid)\n",
        "# unnormalizing the images\n",
        "img_grid = np.clip(img_grid, 0., 1.)\n",
        "# write to tensorboard\n",
        "writer.add_image('cifar10 images', img_grid)"
      ],
      "execution_count": null,
      "outputs": [
        {
          "output_type": "display_data",
          "data": {
            "image/png": "[encoded data removed]",
            "text/plain": [
              "<Figure size 432x288 with 1 Axes>"
            ]
          },
          "metadata": {
            "tags": [],
            "needs_background": "light"
          }
        }
      ]
    },
    {
      "cell_type": "markdown",
      "metadata": {
        "id": "LBh9GhJdhMVL"
      },
      "source": [
        "# Step 4: Define the Network"
      ]
    },
    {
      "cell_type": "code",
      "metadata": {
        "id": "dyyLz_cyhMVM"
      },
      "source": [
        "import torch.nn as nn\n",
        "import torch.nn.functional as F\n",
        "\n",
        "\n",
        "class Net(nn.Module):\n",
        "    def __init__(self):\n",
        "        super(Net, self).__init__()\n",
        "        self.conv1 = nn.Conv2d(3, 6, 5)\n",
        "        self.pool = nn.MaxPool2d(2, 2)\n",
        "        self.conv2 = nn.Conv2d(6, 16, 5)\n",
        "        self.fc1 = nn.Linear(16 * 5 * 5, 120)\n",
        "        self.fc2 = nn.Linear(120, 84)\n",
        "        self.fc3 = nn.Linear(84, 10)\n",
        "\n",
        "    def forward(self, x):\n",
        "        x = self.pool(F.relu(self.conv1(x)))\n",
        "        x = self.pool(F.relu(self.conv2(x)))\n",
        "        x = x.view(-1, 16 * 5 * 5)\n",
        "        x = F.relu(self.fc1(x))\n",
        "        x = F.relu(self.fc2(x))\n",
        "        x = self.fc3(x)\n",
        "        return x\n",
        "\n",
        "# define net - Model\n",
        "net = Net()"
      ],
      "execution_count": null,
      "outputs": []
    },
    {
      "cell_type": "markdown",
      "metadata": {
        "id": "G-D1l0z9hMVO"
      },
      "source": [
        "# Step 5: Define Loss Function and Optimizer\n",
        "\n"
      ]
    },
    {
      "cell_type": "code",
      "metadata": {
        "id": "YJKxBFfehMVP"
      },
      "source": [
        "import torch.optim as optim\n",
        "\n",
        "criterion = nn.CrossEntropyLoss()\n",
        "optimizer = optim.SGD(net.parameters(), lr=0.001, momentum=0.9) #try lr=0.002, lr=0.003"
      ],
      "execution_count": null,
      "outputs": []
    },
    {
      "cell_type": "markdown",
      "metadata": {
        "id": "2eW5G1SmhMVR"
      },
      "source": [
        "# Step 6: Train the network\n",
        "\n"
      ]
    },
    {
      "cell_type": "code",
      "metadata": {
        "id": "f1gYNH1pPTCh"
      },
      "source": [
        "#add a neural network graph to TensorBoard\n",
        "writer.add_graph(net, images)\n",
        "writer.close()"
      ],
      "execution_count": null,
      "outputs": []
    },
    {
      "cell_type": "code",
      "metadata": {
        "id": "UNfNn_XqPmgS",
        "colab": {
          "base_uri": "https://localhost:8080/",
          "height": 204
        },
        "outputId": "b583b10b-7feb-4dd3-c14d-afc03bdcc9b9"
      },
      "source": [
        "for epoch in range(10):  \n",
        "    running_loss = 0.0\n",
        "    running_correct = 0\n",
        "    for data in (trainloader):\n",
        "        # get the images and labels\n",
        "        inputs, labels = data\n",
        "        # set the parameter gradients to zero\n",
        "        optimizer.zero_grad()\n",
        "        outputs = net(inputs)\n",
        "        loss = criterion(outputs, labels)\n",
        "        _, preds = torch.max(outputs.data, 1)\n",
        "        loss.backward()\n",
        "        # update the parameters\n",
        "        optimizer.step()\n",
        "        running_loss += loss.item()\n",
        "        running_correct += (preds == labels).sum().item()\n",
        "    # log the epoch loss\n",
        "    writer.add_scalar('training loss',\n",
        "                    running_loss/len(trainset),\n",
        "                    epoch)\n",
        "    # log the epoch accuracy\n",
        "    writer.add_scalar('training accuracy',\n",
        "                    running_correct/len(trainset),\n",
        "                    epoch)\n",
        "    \n",
        "    print(f\"Epoch {epoch+1} train loss: {running_loss/len(trainset):.3f} train acc: {running_correct/len(trainset)}\")\n",
        "print('Finished Training')"
      ],
      "execution_count": null,
      "outputs": [
        {
          "output_type": "stream",
          "text": [
            "Epoch 1 train loss: 0.411 train acc: 0.39686\n",
            "Epoch 2 train loss: 0.338 train acc: 0.51744\n",
            "Epoch 3 train loss: 0.311 train acc: 0.56182\n",
            "Epoch 4 train loss: 0.295 train acc: 0.58702\n",
            "Epoch 5 train loss: 0.283 train acc: 0.60496\n",
            "Epoch 6 train loss: 0.273 train acc: 0.61718\n",
            "Epoch 7 train loss: 0.264 train acc: 0.6318\n",
            "Epoch 8 train loss: 0.259 train acc: 0.63626\n",
            "Epoch 9 train loss: 0.257 train acc: 0.64314\n",
            "Epoch 10 train loss: 0.252 train acc: 0.65166\n",
            "Finished Training\n"
          ],
          "name": "stdout"
        }
      ]
    },
    {
      "cell_type": "markdown",
      "metadata": {
        "id": "cUrOBnAJhMVU"
      },
      "source": [
        "# Step 7: Save the model\n",
        "\n"
      ]
    },
    {
      "cell_type": "code",
      "metadata": {
        "id": "RRHOlIqyWpq2"
      },
      "source": [
        "PATH = './cifar_net.pth'\n",
        "torch.save(net.state_dict(), PATH)"
      ],
      "execution_count": null,
      "outputs": []
    },
    {
      "cell_type": "markdown",
      "metadata": {
        "id": "e5hNtMb9XXil"
      },
      "source": [
        "# Step 8: Test the network on the test data\n",
        "\n"
      ]
    },
    {
      "cell_type": "code",
      "metadata": {
        "id": "ablwHMUUPpi6",
        "colab": {
          "base_uri": "https://localhost:8080/",
          "height": 187
        },
        "outputId": "d7b8d01e-33c9-4acb-f5a4-194d510cb354"
      },
      "source": [
        "# model testing\n",
        "class_correct = list(0. for i in range(10))\n",
        "class_total = list(0. for i in range(10))\n",
        "with torch.no_grad():\n",
        "    for data in testloader:\n",
        "        images, labels = data\n",
        "        outputs = net(images)\n",
        "        _, predicted = torch.max(outputs, 1)\n",
        "        correct = (predicted == labels).squeeze()\n",
        "        for i in range(4):\n",
        "            label = labels[i]\n",
        "            class_correct[label] += correct[i].item()\n",
        "            class_total[label] += 1\n",
        "\n",
        "# percentage distributions, we will the add_histogram() function.\n",
        "for i in range(10):\n",
        "    writer.add_histogram('test accuracy per class', 100 * class_correct[i] / class_total[i], i)\n",
        "    print('Accuracy of %5s : %2d %%' % (\n",
        "        classes[i], 100 * class_correct[i] / class_total[i]))\n",
        "writer.close()"
      ],
      "execution_count": null,
      "outputs": [
        {
          "output_type": "stream",
          "text": [
            "Accuracy of plane : 76 %\n",
            "Accuracy of   car : 75 %\n",
            "Accuracy of  bird : 38 %\n",
            "Accuracy of   cat : 35 %\n",
            "Accuracy of  deer : 55 %\n",
            "Accuracy of   dog : 53 %\n",
            "Accuracy of  frog : 72 %\n",
            "Accuracy of horse : 64 %\n",
            "Accuracy of  ship : 61 %\n",
            "Accuracy of truck : 58 %\n"
          ],
          "name": "stdout"
        }
      ]
    },
    {
      "cell_type": "markdown",
      "metadata": {
        "id": "AtwsURoPVXqr"
      },
      "source": [
        "# Step 9: Tensorboard\n"
      ]
    },
    {
      "cell_type": "code",
      "metadata": {
        "id": "bjMsahlVYBbn"
      },
      "source": [
        "# load tensorboard in this cell. Run this cell again to view new changes throughout the notebook.\n",
        "%tensorboard --logdir=runs"
      ],
      "execution_count": null,
      "outputs": []
    }
  ]
}