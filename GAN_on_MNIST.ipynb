{
  "nbformat": 4,
  "nbformat_minor": 0,
  "metadata": {
    "colab": {
      "name": "GAN_on_MNIST.ipynb",
      "provenance": [],
      "collapsed_sections": [],
      "toc_visible": true
    },
    "kernelspec": {
      "name": "python3",
      "display_name": "Python 3"
    },
    "accelerator": "GPU",
    "widgets": {
      "application/vnd.jupyter.widget-state+json": {
        "227c344871574196880df92a571a7cbf": {
          "model_module": "@jupyter-widgets/controls",
          "model_name": "HBoxModel",
          "state": {
            "_view_name": "HBoxView",
            "_dom_classes": [],
            "_model_name": "HBoxModel",
            "_view_module": "@jupyter-widgets/controls",
            "_model_module_version": "1.5.0",
            "_view_count": null,
            "_view_module_version": "1.5.0",
            "box_style": "",
            "layout": "IPY_MODEL_334bae0cb88949d082b42742fca0e5f0",
            "_model_module": "@jupyter-widgets/controls",
            "children": [
              "IPY_MODEL_f574e9006674422498a01b06b075f70b",
              "IPY_MODEL_a7cac9bcfaab47fb940664ff8aa6c3c1"
            ]
          }
        },
        "334bae0cb88949d082b42742fca0e5f0": {
          "model_module": "@jupyter-widgets/base",
          "model_name": "LayoutModel",
          "state": {
            "_view_name": "LayoutView",
            "grid_template_rows": null,
            "right": null,
            "justify_content": null,
            "_view_module": "@jupyter-widgets/base",
            "overflow": null,
            "_model_module_version": "1.2.0",
            "_view_count": null,
            "flex_flow": null,
            "width": null,
            "min_width": null,
            "border": null,
            "align_items": null,
            "bottom": null,
            "_model_module": "@jupyter-widgets/base",
            "top": null,
            "grid_column": null,
            "overflow_y": null,
            "overflow_x": null,
            "grid_auto_flow": null,
            "grid_area": null,
            "grid_template_columns": null,
            "flex": null,
            "_model_name": "LayoutModel",
            "justify_items": null,
            "grid_row": null,
            "max_height": null,
            "align_content": null,
            "visibility": null,
            "align_self": null,
            "height": null,
            "min_height": null,
            "padding": null,
            "grid_auto_rows": null,
            "grid_gap": null,
            "max_width": null,
            "order": null,
            "_view_module_version": "1.2.0",
            "grid_template_areas": null,
            "object_position": null,
            "object_fit": null,
            "grid_auto_columns": null,
            "margin": null,
            "display": null,
            "left": null
          }
        },
        "f574e9006674422498a01b06b075f70b": {
          "model_module": "@jupyter-widgets/controls",
          "model_name": "FloatProgressModel",
          "state": {
            "_view_name": "ProgressView",
            "style": "IPY_MODEL_46c2f5c8671140f687d7f554a1dcd504",
            "_dom_classes": [],
            "description": "",
            "_model_name": "FloatProgressModel",
            "bar_style": "success",
            "max": 1,
            "_view_module": "@jupyter-widgets/controls",
            "_model_module_version": "1.5.0",
            "value": 1,
            "_view_count": null,
            "_view_module_version": "1.5.0",
            "orientation": "horizontal",
            "min": 0,
            "description_tooltip": null,
            "_model_module": "@jupyter-widgets/controls",
            "layout": "IPY_MODEL_4674156a1e0d4c8badd227e8eaf2d9a7"
          }
        },
        "a7cac9bcfaab47fb940664ff8aa6c3c1": {
          "model_module": "@jupyter-widgets/controls",
          "model_name": "HTMLModel",
          "state": {
            "_view_name": "HTMLView",
            "style": "IPY_MODEL_e556de0ca9154e9798af3950e9a55977",
            "_dom_classes": [],
            "description": "",
            "_model_name": "HTMLModel",
            "placeholder": "​",
            "_view_module": "@jupyter-widgets/controls",
            "_model_module_version": "1.5.0",
            "value": " 9920512/? [00:07&lt;00:00, 1399900.23it/s]",
            "_view_count": null,
            "_view_module_version": "1.5.0",
            "description_tooltip": null,
            "_model_module": "@jupyter-widgets/controls",
            "layout": "IPY_MODEL_787557baf6724e0ab93e6b2119d5b508"
          }
        },
        "46c2f5c8671140f687d7f554a1dcd504": {
          "model_module": "@jupyter-widgets/controls",
          "model_name": "ProgressStyleModel",
          "state": {
            "_view_name": "StyleView",
            "_model_name": "ProgressStyleModel",
            "description_width": "initial",
            "_view_module": "@jupyter-widgets/base",
            "_model_module_version": "1.5.0",
            "_view_count": null,
            "_view_module_version": "1.2.0",
            "bar_color": null,
            "_model_module": "@jupyter-widgets/controls"
          }
        },
        "4674156a1e0d4c8badd227e8eaf2d9a7": {
          "model_module": "@jupyter-widgets/base",
          "model_name": "LayoutModel",
          "state": {
            "_view_name": "LayoutView",
            "grid_template_rows": null,
            "right": null,
            "justify_content": null,
            "_view_module": "@jupyter-widgets/base",
            "overflow": null,
            "_model_module_version": "1.2.0",
            "_view_count": null,
            "flex_flow": null,
            "width": null,
            "min_width": null,
            "border": null,
            "align_items": null,
            "bottom": null,
            "_model_module": "@jupyter-widgets/base",
            "top": null,
            "grid_column": null,
            "overflow_y": null,
            "overflow_x": null,
            "grid_auto_flow": null,
            "grid_area": null,
            "grid_template_columns": null,
            "flex": null,
            "_model_name": "LayoutModel",
            "justify_items": null,
            "grid_row": null,
            "max_height": null,
            "align_content": null,
            "visibility": null,
            "align_self": null,
            "height": null,
            "min_height": null,
            "padding": null,
            "grid_auto_rows": null,
            "grid_gap": null,
            "max_width": null,
            "order": null,
            "_view_module_version": "1.2.0",
            "grid_template_areas": null,
            "object_position": null,
            "object_fit": null,
            "grid_auto_columns": null,
            "margin": null,
            "display": null,
            "left": null
          }
        },
        "e556de0ca9154e9798af3950e9a55977": {
          "model_module": "@jupyter-widgets/controls",
          "model_name": "DescriptionStyleModel",
          "state": {
            "_view_name": "StyleView",
            "_model_name": "DescriptionStyleModel",
            "description_width": "",
            "_view_module": "@jupyter-widgets/base",
            "_model_module_version": "1.5.0",
            "_view_count": null,
            "_view_module_version": "1.2.0",
            "_model_module": "@jupyter-widgets/controls"
          }
        },
        "787557baf6724e0ab93e6b2119d5b508": {
          "model_module": "@jupyter-widgets/base",
          "model_name": "LayoutModel",
          "state": {
            "_view_name": "LayoutView",
            "grid_template_rows": null,
            "right": null,
            "justify_content": null,
            "_view_module": "@jupyter-widgets/base",
            "overflow": null,
            "_model_module_version": "1.2.0",
            "_view_count": null,
            "flex_flow": null,
            "width": null,
            "min_width": null,
            "border": null,
            "align_items": null,
            "bottom": null,
            "_model_module": "@jupyter-widgets/base",
            "top": null,
            "grid_column": null,
            "overflow_y": null,
            "overflow_x": null,
            "grid_auto_flow": null,
            "grid_area": null,
            "grid_template_columns": null,
            "flex": null,
            "_model_name": "LayoutModel",
            "justify_items": null,
            "grid_row": null,
            "max_height": null,
            "align_content": null,
            "visibility": null,
            "align_self": null,
            "height": null,
            "min_height": null,
            "padding": null,
            "grid_auto_rows": null,
            "grid_gap": null,
            "max_width": null,
            "order": null,
            "_view_module_version": "1.2.0",
            "grid_template_areas": null,
            "object_position": null,
            "object_fit": null,
            "grid_auto_columns": null,
            "margin": null,
            "display": null,
            "left": null
          }
        },
        "9bdaa641c1324341aaedc42b6156469c": {
          "model_module": "@jupyter-widgets/controls",
          "model_name": "HBoxModel",
          "state": {
            "_view_name": "HBoxView",
            "_dom_classes": [],
            "_model_name": "HBoxModel",
            "_view_module": "@jupyter-widgets/controls",
            "_model_module_version": "1.5.0",
            "_view_count": null,
            "_view_module_version": "1.5.0",
            "box_style": "",
            "layout": "IPY_MODEL_6ba833b31d4049978fe52926a189dba6",
            "_model_module": "@jupyter-widgets/controls",
            "children": [
              "IPY_MODEL_242f86994b1747b68356fef717098fbb",
              "IPY_MODEL_036f3e2c5d0d4042851f8e01b7d5cf82"
            ]
          }
        },
        "6ba833b31d4049978fe52926a189dba6": {
          "model_module": "@jupyter-widgets/base",
          "model_name": "LayoutModel",
          "state": {
            "_view_name": "LayoutView",
            "grid_template_rows": null,
            "right": null,
            "justify_content": null,
            "_view_module": "@jupyter-widgets/base",
            "overflow": null,
            "_model_module_version": "1.2.0",
            "_view_count": null,
            "flex_flow": null,
            "width": null,
            "min_width": null,
            "border": null,
            "align_items": null,
            "bottom": null,
            "_model_module": "@jupyter-widgets/base",
            "top": null,
            "grid_column": null,
            "overflow_y": null,
            "overflow_x": null,
            "grid_auto_flow": null,
            "grid_area": null,
            "grid_template_columns": null,
            "flex": null,
            "_model_name": "LayoutModel",
            "justify_items": null,
            "grid_row": null,
            "max_height": null,
            "align_content": null,
            "visibility": null,
            "align_self": null,
            "height": null,
            "min_height": null,
            "padding": null,
            "grid_auto_rows": null,
            "grid_gap": null,
            "max_width": null,
            "order": null,
            "_view_module_version": "1.2.0",
            "grid_template_areas": null,
            "object_position": null,
            "object_fit": null,
            "grid_auto_columns": null,
            "margin": null,
            "display": null,
            "left": null
          }
        },
        "242f86994b1747b68356fef717098fbb": {
          "model_module": "@jupyter-widgets/controls",
          "model_name": "FloatProgressModel",
          "state": {
            "_view_name": "ProgressView",
            "style": "IPY_MODEL_70708d8235074e78b5efdfd477ff9554",
            "_dom_classes": [],
            "description": "",
            "_model_name": "FloatProgressModel",
            "bar_style": "success",
            "max": 1,
            "_view_module": "@jupyter-widgets/controls",
            "_model_module_version": "1.5.0",
            "value": 1,
            "_view_count": null,
            "_view_module_version": "1.5.0",
            "orientation": "horizontal",
            "min": 0,
            "description_tooltip": null,
            "_model_module": "@jupyter-widgets/controls",
            "layout": "IPY_MODEL_853f2f7e8b5542f6bc67a1a6fb627a41"
          }
        },
        "036f3e2c5d0d4042851f8e01b7d5cf82": {
          "model_module": "@jupyter-widgets/controls",
          "model_name": "HTMLModel",
          "state": {
            "_view_name": "HTMLView",
            "style": "IPY_MODEL_496d17a7631d4f7882c769a5883fc76a",
            "_dom_classes": [],
            "description": "",
            "_model_name": "HTMLModel",
            "placeholder": "​",
            "_view_module": "@jupyter-widgets/controls",
            "_model_module_version": "1.5.0",
            "value": " 32768/? [00:00&lt;00:00, 120362.94it/s]",
            "_view_count": null,
            "_view_module_version": "1.5.0",
            "description_tooltip": null,
            "_model_module": "@jupyter-widgets/controls",
            "layout": "IPY_MODEL_27ce6755684349fe97343e164d065529"
          }
        },
        "70708d8235074e78b5efdfd477ff9554": {
          "model_module": "@jupyter-widgets/controls",
          "model_name": "ProgressStyleModel",
          "state": {
            "_view_name": "StyleView",
            "_model_name": "ProgressStyleModel",
            "description_width": "initial",
            "_view_module": "@jupyter-widgets/base",
            "_model_module_version": "1.5.0",
            "_view_count": null,
            "_view_module_version": "1.2.0",
            "bar_color": null,
            "_model_module": "@jupyter-widgets/controls"
          }
        },
        "853f2f7e8b5542f6bc67a1a6fb627a41": {
          "model_module": "@jupyter-widgets/base",
          "model_name": "LayoutModel",
          "state": {
            "_view_name": "LayoutView",
            "grid_template_rows": null,
            "right": null,
            "justify_content": null,
            "_view_module": "@jupyter-widgets/base",
            "overflow": null,
            "_model_module_version": "1.2.0",
            "_view_count": null,
            "flex_flow": null,
            "width": null,
            "min_width": null,
            "border": null,
            "align_items": null,
            "bottom": null,
            "_model_module": "@jupyter-widgets/base",
            "top": null,
            "grid_column": null,
            "overflow_y": null,
            "overflow_x": null,
            "grid_auto_flow": null,
            "grid_area": null,
            "grid_template_columns": null,
            "flex": null,
            "_model_name": "LayoutModel",
            "justify_items": null,
            "grid_row": null,
            "max_height": null,
            "align_content": null,
            "visibility": null,
            "align_self": null,
            "height": null,
            "min_height": null,
            "padding": null,
            "grid_auto_rows": null,
            "grid_gap": null,
            "max_width": null,
            "order": null,
            "_view_module_version": "1.2.0",
            "grid_template_areas": null,
            "object_position": null,
            "object_fit": null,
            "grid_auto_columns": null,
            "margin": null,
            "display": null,
            "left": null
          }
        },
        "496d17a7631d4f7882c769a5883fc76a": {
          "model_module": "@jupyter-widgets/controls",
          "model_name": "DescriptionStyleModel",
          "state": {
            "_view_name": "StyleView",
            "_model_name": "DescriptionStyleModel",
            "description_width": "",
            "_view_module": "@jupyter-widgets/base",
            "_model_module_version": "1.5.0",
            "_view_count": null,
            "_view_module_version": "1.2.0",
            "_model_module": "@jupyter-widgets/controls"
          }
        },
        "27ce6755684349fe97343e164d065529": {
          "model_module": "@jupyter-widgets/base",
          "model_name": "LayoutModel",
          "state": {
            "_view_name": "LayoutView",
            "grid_template_rows": null,
            "right": null,
            "justify_content": null,
            "_view_module": "@jupyter-widgets/base",
            "overflow": null,
            "_model_module_version": "1.2.0",
            "_view_count": null,
            "flex_flow": null,
            "width": null,
            "min_width": null,
            "border": null,
            "align_items": null,
            "bottom": null,
            "_model_module": "@jupyter-widgets/base",
            "top": null,
            "grid_column": null,
            "overflow_y": null,
            "overflow_x": null,
            "grid_auto_flow": null,
            "grid_area": null,
            "grid_template_columns": null,
            "flex": null,
            "_model_name": "LayoutModel",
            "justify_items": null,
            "grid_row": null,
            "max_height": null,
            "align_content": null,
            "visibility": null,
            "align_self": null,
            "height": null,
            "min_height": null,
            "padding": null,
            "grid_auto_rows": null,
            "grid_gap": null,
            "max_width": null,
            "order": null,
            "_view_module_version": "1.2.0",
            "grid_template_areas": null,
            "object_position": null,
            "object_fit": null,
            "grid_auto_columns": null,
            "margin": null,
            "display": null,
            "left": null
          }
        },
        "469db06519c6427abde653c294391e5d": {
          "model_module": "@jupyter-widgets/controls",
          "model_name": "HBoxModel",
          "state": {
            "_view_name": "HBoxView",
            "_dom_classes": [],
            "_model_name": "HBoxModel",
            "_view_module": "@jupyter-widgets/controls",
            "_model_module_version": "1.5.0",
            "_view_count": null,
            "_view_module_version": "1.5.0",
            "box_style": "",
            "layout": "IPY_MODEL_6433414639294276ae0b00c908b3af6c",
            "_model_module": "@jupyter-widgets/controls",
            "children": [
              "IPY_MODEL_dffb4f93cfba4e1eb479232722c30ec6",
              "IPY_MODEL_dd9979b1d58440ccb6042c2b824106bf"
            ]
          }
        },
        "6433414639294276ae0b00c908b3af6c": {
          "model_module": "@jupyter-widgets/base",
          "model_name": "LayoutModel",
          "state": {
            "_view_name": "LayoutView",
            "grid_template_rows": null,
            "right": null,
            "justify_content": null,
            "_view_module": "@jupyter-widgets/base",
            "overflow": null,
            "_model_module_version": "1.2.0",
            "_view_count": null,
            "flex_flow": null,
            "width": null,
            "min_width": null,
            "border": null,
            "align_items": null,
            "bottom": null,
            "_model_module": "@jupyter-widgets/base",
            "top": null,
            "grid_column": null,
            "overflow_y": null,
            "overflow_x": null,
            "grid_auto_flow": null,
            "grid_area": null,
            "grid_template_columns": null,
            "flex": null,
            "_model_name": "LayoutModel",
            "justify_items": null,
            "grid_row": null,
            "max_height": null,
            "align_content": null,
            "visibility": null,
            "align_self": null,
            "height": null,
            "min_height": null,
            "padding": null,
            "grid_auto_rows": null,
            "grid_gap": null,
            "max_width": null,
            "order": null,
            "_view_module_version": "1.2.0",
            "grid_template_areas": null,
            "object_position": null,
            "object_fit": null,
            "grid_auto_columns": null,
            "margin": null,
            "display": null,
            "left": null
          }
        },
        "dffb4f93cfba4e1eb479232722c30ec6": {
          "model_module": "@jupyter-widgets/controls",
          "model_name": "FloatProgressModel",
          "state": {
            "_view_name": "ProgressView",
            "style": "IPY_MODEL_6a3c273756a74aa7a202402558f3cdbf",
            "_dom_classes": [],
            "description": "",
            "_model_name": "FloatProgressModel",
            "bar_style": "success",
            "max": 1,
            "_view_module": "@jupyter-widgets/controls",
            "_model_module_version": "1.5.0",
            "value": 1,
            "_view_count": null,
            "_view_module_version": "1.5.0",
            "orientation": "horizontal",
            "min": 0,
            "description_tooltip": null,
            "_model_module": "@jupyter-widgets/controls",
            "layout": "IPY_MODEL_26e72d22e4174d23b24b60d08287f9a6"
          }
        },
        "dd9979b1d58440ccb6042c2b824106bf": {
          "model_module": "@jupyter-widgets/controls",
          "model_name": "HTMLModel",
          "state": {
            "_view_name": "HTMLView",
            "style": "IPY_MODEL_078025e19a4b4ce4bcc745607a84b8a2",
            "_dom_classes": [],
            "description": "",
            "_model_name": "HTMLModel",
            "placeholder": "​",
            "_view_module": "@jupyter-widgets/controls",
            "_model_module_version": "1.5.0",
            "value": " 1654784/? [00:05&lt;00:00, 307989.46it/s]",
            "_view_count": null,
            "_view_module_version": "1.5.0",
            "description_tooltip": null,
            "_model_module": "@jupyter-widgets/controls",
            "layout": "IPY_MODEL_26b91aee1ff64dba82e09dab81ff0008"
          }
        },
        "6a3c273756a74aa7a202402558f3cdbf": {
          "model_module": "@jupyter-widgets/controls",
          "model_name": "ProgressStyleModel",
          "state": {
            "_view_name": "StyleView",
            "_model_name": "ProgressStyleModel",
            "description_width": "initial",
            "_view_module": "@jupyter-widgets/base",
            "_model_module_version": "1.5.0",
            "_view_count": null,
            "_view_module_version": "1.2.0",
            "bar_color": null,
            "_model_module": "@jupyter-widgets/controls"
          }
        },
        "26e72d22e4174d23b24b60d08287f9a6": {
          "model_module": "@jupyter-widgets/base",
          "model_name": "LayoutModel",
          "state": {
            "_view_name": "LayoutView",
            "grid_template_rows": null,
            "right": null,
            "justify_content": null,
            "_view_module": "@jupyter-widgets/base",
            "overflow": null,
            "_model_module_version": "1.2.0",
            "_view_count": null,
            "flex_flow": null,
            "width": null,
            "min_width": null,
            "border": null,
            "align_items": null,
            "bottom": null,
            "_model_module": "@jupyter-widgets/base",
            "top": null,
            "grid_column": null,
            "overflow_y": null,
            "overflow_x": null,
            "grid_auto_flow": null,
            "grid_area": null,
            "grid_template_columns": null,
            "flex": null,
            "_model_name": "LayoutModel",
            "justify_items": null,
            "grid_row": null,
            "max_height": null,
            "align_content": null,
            "visibility": null,
            "align_self": null,
            "height": null,
            "min_height": null,
            "padding": null,
            "grid_auto_rows": null,
            "grid_gap": null,
            "max_width": null,
            "order": null,
            "_view_module_version": "1.2.0",
            "grid_template_areas": null,
            "object_position": null,
            "object_fit": null,
            "grid_auto_columns": null,
            "margin": null,
            "display": null,
            "left": null
          }
        },
        "078025e19a4b4ce4bcc745607a84b8a2": {
          "model_module": "@jupyter-widgets/controls",
          "model_name": "DescriptionStyleModel",
          "state": {
            "_view_name": "StyleView",
            "_model_name": "DescriptionStyleModel",
            "description_width": "",
            "_view_module": "@jupyter-widgets/base",
            "_model_module_version": "1.5.0",
            "_view_count": null,
            "_view_module_version": "1.2.0",
            "_model_module": "@jupyter-widgets/controls"
          }
        },
        "26b91aee1ff64dba82e09dab81ff0008": {
          "model_module": "@jupyter-widgets/base",
          "model_name": "LayoutModel",
          "state": {
            "_view_name": "LayoutView",
            "grid_template_rows": null,
            "right": null,
            "justify_content": null,
            "_view_module": "@jupyter-widgets/base",
            "overflow": null,
            "_model_module_version": "1.2.0",
            "_view_count": null,
            "flex_flow": null,
            "width": null,
            "min_width": null,
            "border": null,
            "align_items": null,
            "bottom": null,
            "_model_module": "@jupyter-widgets/base",
            "top": null,
            "grid_column": null,
            "overflow_y": null,
            "overflow_x": null,
            "grid_auto_flow": null,
            "grid_area": null,
            "grid_template_columns": null,
            "flex": null,
            "_model_name": "LayoutModel",
            "justify_items": null,
            "grid_row": null,
            "max_height": null,
            "align_content": null,
            "visibility": null,
            "align_self": null,
            "height": null,
            "min_height": null,
            "padding": null,
            "grid_auto_rows": null,
            "grid_gap": null,
            "max_width": null,
            "order": null,
            "_view_module_version": "1.2.0",
            "grid_template_areas": null,
            "object_position": null,
            "object_fit": null,
            "grid_auto_columns": null,
            "margin": null,
            "display": null,
            "left": null
          }
        },
        "c948f67968ed4286ae45e50a0d093834": {
          "model_module": "@jupyter-widgets/controls",
          "model_name": "HBoxModel",
          "state": {
            "_view_name": "HBoxView",
            "_dom_classes": [],
            "_model_name": "HBoxModel",
            "_view_module": "@jupyter-widgets/controls",
            "_model_module_version": "1.5.0",
            "_view_count": null,
            "_view_module_version": "1.5.0",
            "box_style": "",
            "layout": "IPY_MODEL_c282e34dd8a14fddb45aea9d29036631",
            "_model_module": "@jupyter-widgets/controls",
            "children": [
              "IPY_MODEL_08b7360edf8b4248a99c76ddf708e876",
              "IPY_MODEL_044285cc480c49d5ba9241baa90561c5"
            ]
          }
        },
        "c282e34dd8a14fddb45aea9d29036631": {
          "model_module": "@jupyter-widgets/base",
          "model_name": "LayoutModel",
          "state": {
            "_view_name": "LayoutView",
            "grid_template_rows": null,
            "right": null,
            "justify_content": null,
            "_view_module": "@jupyter-widgets/base",
            "overflow": null,
            "_model_module_version": "1.2.0",
            "_view_count": null,
            "flex_flow": null,
            "width": null,
            "min_width": null,
            "border": null,
            "align_items": null,
            "bottom": null,
            "_model_module": "@jupyter-widgets/base",
            "top": null,
            "grid_column": null,
            "overflow_y": null,
            "overflow_x": null,
            "grid_auto_flow": null,
            "grid_area": null,
            "grid_template_columns": null,
            "flex": null,
            "_model_name": "LayoutModel",
            "justify_items": null,
            "grid_row": null,
            "max_height": null,
            "align_content": null,
            "visibility": null,
            "align_self": null,
            "height": null,
            "min_height": null,
            "padding": null,
            "grid_auto_rows": null,
            "grid_gap": null,
            "max_width": null,
            "order": null,
            "_view_module_version": "1.2.0",
            "grid_template_areas": null,
            "object_position": null,
            "object_fit": null,
            "grid_auto_columns": null,
            "margin": null,
            "display": null,
            "left": null
          }
        },
        "08b7360edf8b4248a99c76ddf708e876": {
          "model_module": "@jupyter-widgets/controls",
          "model_name": "FloatProgressModel",
          "state": {
            "_view_name": "ProgressView",
            "style": "IPY_MODEL_7f017d2fcf2b47b29ba240d3efbd0c3a",
            "_dom_classes": [],
            "description": "",
            "_model_name": "FloatProgressModel",
            "bar_style": "success",
            "max": 1,
            "_view_module": "@jupyter-widgets/controls",
            "_model_module_version": "1.5.0",
            "value": 1,
            "_view_count": null,
            "_view_module_version": "1.5.0",
            "orientation": "horizontal",
            "min": 0,
            "description_tooltip": null,
            "_model_module": "@jupyter-widgets/controls",
            "layout": "IPY_MODEL_ece723f31b54496c9d5606a207a55041"
          }
        },
        "044285cc480c49d5ba9241baa90561c5": {
          "model_module": "@jupyter-widgets/controls",
          "model_name": "HTMLModel",
          "state": {
            "_view_name": "HTMLView",
            "style": "IPY_MODEL_8724db01441447668925ad6f13f59fa4",
            "_dom_classes": [],
            "description": "",
            "_model_name": "HTMLModel",
            "placeholder": "​",
            "_view_module": "@jupyter-widgets/controls",
            "_model_module_version": "1.5.0",
            "value": " 8192/? [00:04&lt;00:00, 1755.44it/s]",
            "_view_count": null,
            "_view_module_version": "1.5.0",
            "description_tooltip": null,
            "_model_module": "@jupyter-widgets/controls",
            "layout": "IPY_MODEL_d27ba6a2d8d943c5903f2937fb6bdebc"
          }
        },
        "7f017d2fcf2b47b29ba240d3efbd0c3a": {
          "model_module": "@jupyter-widgets/controls",
          "model_name": "ProgressStyleModel",
          "state": {
            "_view_name": "StyleView",
            "_model_name": "ProgressStyleModel",
            "description_width": "initial",
            "_view_module": "@jupyter-widgets/base",
            "_model_module_version": "1.5.0",
            "_view_count": null,
            "_view_module_version": "1.2.0",
            "bar_color": null,
            "_model_module": "@jupyter-widgets/controls"
          }
        },
        "ece723f31b54496c9d5606a207a55041": {
          "model_module": "@jupyter-widgets/base",
          "model_name": "LayoutModel",
          "state": {
            "_view_name": "LayoutView",
            "grid_template_rows": null,
            "right": null,
            "justify_content": null,
            "_view_module": "@jupyter-widgets/base",
            "overflow": null,
            "_model_module_version": "1.2.0",
            "_view_count": null,
            "flex_flow": null,
            "width": null,
            "min_width": null,
            "border": null,
            "align_items": null,
            "bottom": null,
            "_model_module": "@jupyter-widgets/base",
            "top": null,
            "grid_column": null,
            "overflow_y": null,
            "overflow_x": null,
            "grid_auto_flow": null,
            "grid_area": null,
            "grid_template_columns": null,
            "flex": null,
            "_model_name": "LayoutModel",
            "justify_items": null,
            "grid_row": null,
            "max_height": null,
            "align_content": null,
            "visibility": null,
            "align_self": null,
            "height": null,
            "min_height": null,
            "padding": null,
            "grid_auto_rows": null,
            "grid_gap": null,
            "max_width": null,
            "order": null,
            "_view_module_version": "1.2.0",
            "grid_template_areas": null,
            "object_position": null,
            "object_fit": null,
            "grid_auto_columns": null,
            "margin": null,
            "display": null,
            "left": null
          }
        },
        "8724db01441447668925ad6f13f59fa4": {
          "model_module": "@jupyter-widgets/controls",
          "model_name": "DescriptionStyleModel",
          "state": {
            "_view_name": "StyleView",
            "_model_name": "DescriptionStyleModel",
            "description_width": "",
            "_view_module": "@jupyter-widgets/base",
            "_model_module_version": "1.5.0",
            "_view_count": null,
            "_view_module_version": "1.2.0",
            "_model_module": "@jupyter-widgets/controls"
          }
        },
        "d27ba6a2d8d943c5903f2937fb6bdebc": {
          "model_module": "@jupyter-widgets/base",
          "model_name": "LayoutModel",
          "state": {
            "_view_name": "LayoutView",
            "grid_template_rows": null,
            "right": null,
            "justify_content": null,
            "_view_module": "@jupyter-widgets/base",
            "overflow": null,
            "_model_module_version": "1.2.0",
            "_view_count": null,
            "flex_flow": null,
            "width": null,
            "min_width": null,
            "border": null,
            "align_items": null,
            "bottom": null,
            "_model_module": "@jupyter-widgets/base",
            "top": null,
            "grid_column": null,
            "overflow_y": null,
            "overflow_x": null,
            "grid_auto_flow": null,
            "grid_area": null,
            "grid_template_columns": null,
            "flex": null,
            "_model_name": "LayoutModel",
            "justify_items": null,
            "grid_row": null,
            "max_height": null,
            "align_content": null,
            "visibility": null,
            "align_self": null,
            "height": null,
            "min_height": null,
            "padding": null,
            "grid_auto_rows": null,
            "grid_gap": null,
            "max_width": null,
            "order": null,
            "_view_module_version": "1.2.0",
            "grid_template_areas": null,
            "object_position": null,
            "object_fit": null,
            "grid_auto_columns": null,
            "margin": null,
            "display": null,
            "left": null
          }
        }
      }
    }
  },
  "cells": [
    {
      "cell_type": "markdown",
      "metadata": {
        "id": "ePyPgA-nd0yG"
      },
      "source": [
        "# Import statements"
      ]
    },
    {
      "cell_type": "code",
      "metadata": {
        "id": "vGlgrmDNd0T4"
      },
      "source": [
        "import torch\n",
        "from torchvision import transforms, datasets\n",
        "import torch.nn as nn\n",
        "from torch import optim as optim"
      ],
      "execution_count": null,
      "outputs": []
    },
    {
      "cell_type": "markdown",
      "metadata": {
        "id": "O0pJjIAed8JP"
      },
      "source": [
        "# Select Device"
      ]
    },
    {
      "cell_type": "code",
      "metadata": {
        "id": "1I44mJWydmxT",
        "colab": {
          "base_uri": "https://localhost:8080/"
        },
        "outputId": "310341d4-f92f-4d48-fcf8-c4f06d66e123"
      },
      "source": [
        "device = torch.device(\"cuda\" if torch.cuda.is_available() else \"cpu\")\n",
        "print(device)"
      ],
      "execution_count": null,
      "outputs": [
        {
          "output_type": "stream",
          "text": [
            "cuda\n"
          ],
          "name": "stdout"
        }
      ]
    },
    {
      "cell_type": "markdown",
      "metadata": {
        "id": "WnO0O9K2P3QZ"
      },
      "source": [
        "# Load dataset and declare training parameters"
      ]
    },
    {
      "cell_type": "code",
      "metadata": {
        "id": "yGvGwmtNXL6S",
        "colab": {
          "base_uri": "https://localhost:8080/",
          "height": 386,
          "referenced_widgets": [
            "227c344871574196880df92a571a7cbf",
            "334bae0cb88949d082b42742fca0e5f0",
            "f574e9006674422498a01b06b075f70b",
            "a7cac9bcfaab47fb940664ff8aa6c3c1",
            "46c2f5c8671140f687d7f554a1dcd504",
            "4674156a1e0d4c8badd227e8eaf2d9a7",
            "e556de0ca9154e9798af3950e9a55977",
            "787557baf6724e0ab93e6b2119d5b508",
            "9bdaa641c1324341aaedc42b6156469c",
            "6ba833b31d4049978fe52926a189dba6",
            "242f86994b1747b68356fef717098fbb",
            "036f3e2c5d0d4042851f8e01b7d5cf82",
            "70708d8235074e78b5efdfd477ff9554",
            "853f2f7e8b5542f6bc67a1a6fb627a41",
            "496d17a7631d4f7882c769a5883fc76a",
            "27ce6755684349fe97343e164d065529",
            "469db06519c6427abde653c294391e5d",
            "6433414639294276ae0b00c908b3af6c",
            "dffb4f93cfba4e1eb479232722c30ec6",
            "dd9979b1d58440ccb6042c2b824106bf",
            "6a3c273756a74aa7a202402558f3cdbf",
            "26e72d22e4174d23b24b60d08287f9a6",
            "078025e19a4b4ce4bcc745607a84b8a2",
            "26b91aee1ff64dba82e09dab81ff0008",
            "c948f67968ed4286ae45e50a0d093834",
            "c282e34dd8a14fddb45aea9d29036631",
            "08b7360edf8b4248a99c76ddf708e876",
            "044285cc480c49d5ba9241baa90561c5",
            "7f017d2fcf2b47b29ba240d3efbd0c3a",
            "ece723f31b54496c9d5606a207a55041",
            "8724db01441447668925ad6f13f59fa4",
            "d27ba6a2d8d943c5903f2937fb6bdebc"
          ]
        },
        "outputId": "1846864a-7b1e-4d5f-ce53-b73c385a345a"
      },
      "source": [
        "training_parameters = {\n",
        "    \"n_epochs\": 100,\n",
        "    \"batch_size\": 100,\n",
        "}\n",
        "data_loader = torch.utils.data.DataLoader(\n",
        "  \n",
        "  datasets.MNIST('./', train=True, download=True,\n",
        "                             transform=transforms.Compose([\n",
        "                               transforms.ToTensor(),\n",
        "                               transforms.Normalize(\n",
        "                                 (0.5,), (0.5,))\n",
        "                             ])),\n",
        "  batch_size=training_parameters[\"batch_size\"], shuffle=True)"
      ],
      "execution_count": null,
      "outputs": [
        {
          "output_type": "stream",
          "text": [
            "Downloading http://yann.lecun.com/exdb/mnist/train-images-idx3-ubyte.gz to ./MNIST/raw/train-images-idx3-ubyte.gz\n"
          ],
          "name": "stdout"
        },
        {
          "output_type": "display_data",
          "data": {
            "application/vnd.jupyter.widget-view+json": {
              "model_id": "227c344871574196880df92a571a7cbf",
              "version_minor": 0,
              "version_major": 2
            },
            "text/plain": [
              "HBox(children=(FloatProgress(value=1.0, bar_style='info', max=1.0), HTML(value='')))"
            ]
          },
          "metadata": {
            "tags": []
          }
        },
        {
          "output_type": "stream",
          "text": [
            "Extracting ./MNIST/raw/train-images-idx3-ubyte.gz to ./MNIST/raw\n",
            "Downloading http://yann.lecun.com/exdb/mnist/train-labels-idx1-ubyte.gz to ./MNIST/raw/train-labels-idx1-ubyte.gz\n"
          ],
          "name": "stdout"
        },
        {
          "output_type": "display_data",
          "data": {
            "application/vnd.jupyter.widget-view+json": {
              "model_id": "9bdaa641c1324341aaedc42b6156469c",
              "version_minor": 0,
              "version_major": 2
            },
            "text/plain": [
              "HBox(children=(FloatProgress(value=1.0, bar_style='info', max=1.0), HTML(value='')))"
            ]
          },
          "metadata": {
            "tags": []
          }
        },
        {
          "output_type": "stream",
          "text": [
            "Extracting ./MNIST/raw/train-labels-idx1-ubyte.gz to ./MNIST/raw\n",
            "Downloading http://yann.lecun.com/exdb/mnist/t10k-images-idx3-ubyte.gz to ./MNIST/raw/t10k-images-idx3-ubyte.gz\n",
            "\n"
          ],
          "name": "stdout"
        },
        {
          "output_type": "display_data",
          "data": {
            "application/vnd.jupyter.widget-view+json": {
              "model_id": "469db06519c6427abde653c294391e5d",
              "version_minor": 0,
              "version_major": 2
            },
            "text/plain": [
              "HBox(children=(FloatProgress(value=1.0, bar_style='info', max=1.0), HTML(value='')))"
            ]
          },
          "metadata": {
            "tags": []
          }
        },
        {
          "output_type": "stream",
          "text": [
            "Extracting ./MNIST/raw/t10k-images-idx3-ubyte.gz to ./MNIST/raw\n",
            "Downloading http://yann.lecun.com/exdb/mnist/t10k-labels-idx1-ubyte.gz to ./MNIST/raw/t10k-labels-idx1-ubyte.gz\n"
          ],
          "name": "stdout"
        },
        {
          "output_type": "display_data",
          "data": {
            "application/vnd.jupyter.widget-view+json": {
              "model_id": "c948f67968ed4286ae45e50a0d093834",
              "version_minor": 0,
              "version_major": 2
            },
            "text/plain": [
              "HBox(children=(FloatProgress(value=1.0, bar_style='info', max=1.0), HTML(value='')))"
            ]
          },
          "metadata": {
            "tags": []
          }
        },
        {
          "output_type": "stream",
          "text": [
            "Extracting ./MNIST/raw/t10k-labels-idx1-ubyte.gz to ./MNIST/raw\n",
            "Processing...\n",
            "Done!\n"
          ],
          "name": "stdout"
        },
        {
          "output_type": "stream",
          "text": [
            "/usr/local/lib/python3.6/dist-packages/torchvision/datasets/mnist.py:480: UserWarning: The given NumPy array is not writeable, and PyTorch does not support non-writeable tensors. This means you can write to the underlying (supposedly non-writeable) NumPy array using the tensor. You may want to copy the array to protect its data or make it writeable before converting it to a tensor. This type of warning will be suppressed for the rest of this program. (Triggered internally at  /pytorch/torch/csrc/utils/tensor_numpy.cpp:141.)\n",
            "  return torch.from_numpy(parsed.astype(m[2], copy=False)).view(*s)\n"
          ],
          "name": "stderr"
        }
      ]
    },
    {
      "cell_type": "code",
      "metadata": {
        "id": "uo1RcVFSaT6R",
        "colab": {
          "base_uri": "https://localhost:8080/"
        },
        "outputId": "0654ebb9-9ef2-4b0b-82b9-7b1898df74fe"
      },
      "source": [
        "num_batches = len(data_loader)\n",
        "print(\"Number of batches: \",num_batches)"
      ],
      "execution_count": null,
      "outputs": [
        {
          "output_type": "stream",
          "text": [
            "Number of batches:  600\n"
          ],
          "name": "stdout"
        }
      ]
    },
    {
      "cell_type": "markdown",
      "metadata": {
        "id": "upuWTpqEQMJG"
      },
      "source": [
        "# Display an iamge"
      ]
    },
    {
      "cell_type": "code",
      "metadata": {
        "id": "qZR8ZCOm6TRY",
        "colab": {
          "base_uri": "https://localhost:8080/",
          "height": 316
        },
        "outputId": "0b17630c-63fc-4187-aa08-8b4a7833c2bf"
      },
      "source": [
        "%matplotlib inline \n",
        "from matplotlib import pyplot as plt\n",
        "\n",
        "for x,_ in data_loader:\n",
        "    plt.imshow(x.numpy()[0][0], cmap='gray')\n",
        "    break"
      ],
      "execution_count": null,
      "outputs": [
        {
          "output_type": "stream",
          "text": [
            "\n",
            "\n",
            "\n"
          ],
          "name": "stdout"
        },
        {
          "output_type": "display_data",
          "data": {
            "image/png": "[encoded data removed]",
            "text/plain": [
              "<Figure size 432x288 with 1 Axes>"
            ]
          },
          "metadata": {
            "tags": [],
            "needs_background": "light"
          }
        }
      ]
    },
    {
      "cell_type": "markdown",
      "metadata": {
        "id": "q_QwUBQlQSAr"
      },
      "source": [
        "# Define Generator and Discriminator"
      ]
    },
    {
      "cell_type": "code",
      "metadata": {
        "id": "gOvX1SSHa41A",
        "colab": {
          "base_uri": "https://localhost:8080/"
        },
        "outputId": "03f2e3e4-c1c5-43f2-c1d0-d081165556b2"
      },
      "source": [
        "class GeneratorModel(nn.Module):\n",
        "    def __init__(self):\n",
        "        super(GeneratorModel, self).__init__()\n",
        "        input_dim = 100\n",
        "        output_dim = 784\n",
        "\n",
        "        self.hidden_layer1 = nn.Sequential(\n",
        "            nn.Linear(input_dim, 256),\n",
        "            nn.LeakyReLU(0.2)\n",
        "        )\n",
        "\n",
        "        self.hidden_layer2 = nn.Sequential(\n",
        "            nn.Linear(256, 512),\n",
        "            nn.LeakyReLU(0.2)\n",
        "        )\n",
        "\n",
        "        self.hidden_layer3 = nn.Sequential(\n",
        "            nn.Linear(512, 1024),\n",
        "            nn.LeakyReLU(0.2)\n",
        "        )\n",
        "\n",
        "        self.hidden_layer4 = nn.Sequential(\n",
        "            nn.Linear(1024, output_dim),\n",
        "            nn.Tanh()\n",
        "        )\n",
        "    \n",
        "    def forward(self, x):\n",
        "        output = self.hidden_layer1(x)\n",
        "        output = self.hidden_layer2(output)\n",
        "        output = self.hidden_layer3(output)\n",
        "        output = self.hidden_layer4(output)\n",
        "        return output.to(device)\n",
        "\n",
        "class DiscriminatorModel(nn.Module):\n",
        "    def __init__(self):\n",
        "        super(DiscriminatorModel, self).__init__()\n",
        "        input_dim = 784\n",
        "        output_dim = 1\n",
        "\n",
        "        self.hidden_layer1 = nn.Sequential(\n",
        "            nn.Linear(input_dim, 1024),\n",
        "            nn.LeakyReLU(0.2),\n",
        "            nn.Dropout(0.3)\n",
        "        )\n",
        "\n",
        "        self.hidden_layer2 = nn.Sequential(\n",
        "            nn.Linear(1024, 512),\n",
        "            nn.LeakyReLU(0.2),\n",
        "            nn.Dropout(0.3)\n",
        "        )\n",
        "\n",
        "        self.hidden_layer3 = nn.Sequential(\n",
        "            nn.Linear(512, 256),\n",
        "            nn.LeakyReLU(0.2),\n",
        "            nn.Dropout(0.3)\n",
        "        )\n",
        "\n",
        "        self.hidden_layer4 = nn.Sequential(\n",
        "            nn.Linear(256, output_dim),\n",
        "            nn.Sigmoid()\n",
        "        )\n",
        "\n",
        "    def forward(self, x):\n",
        "        output = self.hidden_layer1(x)\n",
        "        output = self.hidden_layer2(output)\n",
        "        output = self.hidden_layer3(output)\n",
        "        output = self.hidden_layer4(output)\n",
        "\n",
        "        return output.to(device)\n",
        "\n",
        "discriminator = DiscriminatorModel()\n",
        "generator = GeneratorModel()\n",
        "discriminator.to(device)\n",
        "generator.to(device)"
      ],
      "execution_count": null,
      "outputs": [
        {
          "output_type": "execute_result",
          "data": {
            "text/plain": [
              "GeneratorModel(\n",
              "  (hidden_layer1): Sequential(\n",
              "    (0): Linear(in_features=100, out_features=256, bias=True)\n",
              "    (1): LeakyReLU(negative_slope=0.2)\n",
              "  )\n",
              "  (hidden_layer2): Sequential(\n",
              "    (0): Linear(in_features=256, out_features=512, bias=True)\n",
              "    (1): LeakyReLU(negative_slope=0.2)\n",
              "  )\n",
              "  (hidden_layer3): Sequential(\n",
              "    (0): Linear(in_features=512, out_features=1024, bias=True)\n",
              "    (1): LeakyReLU(negative_slope=0.2)\n",
              "  )\n",
              "  (hidden_layer4): Sequential(\n",
              "    (0): Linear(in_features=1024, out_features=784, bias=True)\n",
              "    (1): Tanh()\n",
              "  )\n",
              ")"
            ]
          },
          "metadata": {
            "tags": []
          },
          "execution_count": 6
        }
      ]
    },
    {
      "cell_type": "markdown",
      "metadata": {
        "id": "IMuVQHnZQhU9"
      },
      "source": [
        "# Initilize Optimizers, loss function\n"
      ]
    },
    {
      "cell_type": "code",
      "metadata": {
        "id": "j1GQkiSFxzPe"
      },
      "source": [
        "discriminator_optimizer = optim.Adam(discriminator.parameters(), lr=0.0002)\n",
        "generator_optimizer = optim.Adam(generator.parameters(), lr=0.0002)\n",
        "\n",
        "loss = nn.BCELoss()\n"
      ],
      "execution_count": null,
      "outputs": []
    },
    {
      "cell_type": "markdown",
      "metadata": {
        "id": "OLvXAR7Px1ja"
      },
      "source": [
        "# Training Loop"
      ]
    },
    {
      "cell_type": "code",
      "metadata": {
        "id": "8sp6taoHSioH",
        "colab": {
          "base_uri": "https://localhost:8080/",
          "height": 1000
        },
        "outputId": "e3a5da41-4e08-409c-bd52-62eb710ab847"
      },
      "source": [
        "n_epochs = training_parameters[\"n_epochs\"]\n",
        "batch_size = training_parameters[\"batch_size\"]\n",
        "\n",
        "for epoch_idx in range(n_epochs):\n",
        "    G_loss = []\n",
        "    D_loss = []\n",
        "    for batch_idx, data_input in enumerate(data_loader):\n",
        "        \n",
        "        \n",
        "        noise = torch.randn(batch_size,100).to(device)\n",
        "        generated_data = generator(noise) # batch_size X 784\n",
        "        \n",
        "        # Discriminator\n",
        "        true_data = data_input[0].view(batch_size, 784).to(device) # batch_size X 784\n",
        "        digit_labels = data_input[1] # batch_size\n",
        "        true_labels = torch.ones(batch_size).to(device)\n",
        "        \n",
        "        discriminator_optimizer.zero_grad()\n",
        "\n",
        "        discriminator_output_for_true_data = discriminator(true_data).view(batch_size)\n",
        "        true_discriminator_loss = loss(discriminator_output_for_true_data, true_labels)\n",
        "\n",
        "        discriminator_output_for_generated_data = discriminator(generated_data.detach()).view(batch_size)\n",
        "        generator_discriminator_loss = loss(\n",
        "            discriminator_output_for_generated_data, torch.zeros(batch_size).to(device)\n",
        "        )\n",
        "        discriminator_loss = (\n",
        "            true_discriminator_loss + generator_discriminator_loss\n",
        "        ) / 2\n",
        "        \n",
        "        discriminator_loss.backward()\n",
        "        discriminator_optimizer.step()\n",
        "\n",
        "        D_loss.append(discriminator_loss.data.item())\n",
        "        \n",
        "        \n",
        "        # Generator\n",
        "\n",
        "        generator_optimizer.zero_grad()\n",
        "        generated_data = generator(noise)\n",
        "        discriminator_output_on_generated_data = discriminator(generated_data).view(batch_size)\n",
        "        generator_loss = loss(discriminator_output_on_generated_data, true_labels)\n",
        "        generator_loss.backward()\n",
        "        generator_optimizer.step()\n",
        "        \n",
        "        G_loss.append(generator_loss.data.item())\n",
        "        if ((batch_idx + 1)% 500 == 0 and (epoch_idx + 1)%10 == 0):\n",
        "            print(\"Training Steps Completed: \", batch_idx)\n",
        "            \n",
        "            with torch.no_grad():\n",
        "                noise = torch.randn(batch_size,100).to(device)\n",
        "                generated_data = generator(noise).cpu().view(batch_size, 28, 28)\n",
        "                for x in generated_data:\n",
        "                    plt.imshow(x.detach().numpy(), interpolation='nearest',cmap='gray')\n",
        "                    plt.show()\n",
        "\n",
        "                    break\n",
        "\n",
        "\n",
        "    print('[%d/%d]: loss_d: %.3f, loss_g: %.3f' % (\n",
        "            (epoch_idx), n_epochs, torch.mean(torch.FloatTensor(D_loss)), torch.mean(torch.FloatTensor(G_loss))))\n",
        "    "
      ],
      "execution_count": null,
      "outputs": [
        {
          "output_type": "stream",
          "text": [
            "[0/100]: loss_d: 0.445, loss_g: 3.313\n",
            "[1/100]: loss_d: 0.540, loss_g: 1.741\n",
            "[2/100]: loss_d: 0.451, loss_g: 2.145\n",
            "[3/100]: loss_d: 0.230, loss_g: 3.012\n",
            "[4/100]: loss_d: 0.249, loss_g: 3.315\n",
            "[5/100]: loss_d: 0.283, loss_g: 2.594\n",
            "[6/100]: loss_d: 0.280, loss_g: 2.655\n",
            "[7/100]: loss_d: 0.289, loss_g: 2.580\n",
            "[8/100]: loss_d: 0.320, loss_g: 2.334\n",
            "Training Steps Completed:  499\n"
          ],
          "name": "stdout"
        },
        {
          "output_type": "display_data",
          "data": {
            "image/png": "[encoded data removed]",
            "text/plain": [
              "<Figure size 432x288 with 1 Axes>"
            ]
          },
          "metadata": {
            "tags": [],
            "needs_background": "light"
          }
        },
        {
          "output_type": "stream",
          "text": [
            "[9/100]: loss_d: 0.313, loss_g: 2.415\n",
            "[10/100]: loss_d: 0.341, loss_g: 2.213\n",
            "[11/100]: loss_d: 0.375, loss_g: 2.048\n",
            "[12/100]: loss_d: 0.367, loss_g: 2.012\n",
            "[13/100]: loss_d: 0.381, loss_g: 2.038\n",
            "[14/100]: loss_d: 0.379, loss_g: 1.944\n",
            "[15/100]: loss_d: 0.430, loss_g: 1.755\n",
            "[16/100]: loss_d: 0.434, loss_g: 1.688\n",
            "[17/100]: loss_d: 0.437, loss_g: 1.692\n",
            "[18/100]: loss_d: 0.421, loss_g: 1.766\n",
            "Training Steps Completed:  499\n"
          ],
          "name": "stdout"
        },
        {
          "output_type": "display_data",
          "data": {
            "image/png": "[encoded data removed]",
            "text/plain": [
              "<Figure size 432x288 with 1 Axes>"
            ]
          },
          "metadata": {
            "tags": [],
            "needs_background": "light"
          }
        },
        {
          "output_type": "stream",
          "text": [
            "[19/100]: loss_d: 0.439, loss_g: 1.725\n",
            "[20/100]: loss_d: 0.459, loss_g: 1.587\n",
            "[21/100]: loss_d: 0.473, loss_g: 1.521\n",
            "[22/100]: loss_d: 0.466, loss_g: 1.572\n",
            "[23/100]: loss_d: 0.465, loss_g: 1.567\n",
            "[24/100]: loss_d: 0.462, loss_g: 1.569\n",
            "[25/100]: loss_d: 0.490, loss_g: 1.446\n",
            "[26/100]: loss_d: 0.493, loss_g: 1.423\n",
            "[27/100]: loss_d: 0.503, loss_g: 1.383\n",
            "[28/100]: loss_d: 0.507, loss_g: 1.392\n",
            "Training Steps Completed:  499\n"
          ],
          "name": "stdout"
        },
        {
          "output_type": "display_data",
          "data": {
            "image/png": "[encoded data removed]",
            "text/plain": [
              "<Figure size 432x288 with 1 Axes>"
            ]
          },
          "metadata": {
            "tags": [],
            "needs_background": "light"
          }
        },
        {
          "output_type": "stream",
          "text": [
            "[29/100]: loss_d: 0.510, loss_g: 1.361\n",
            "[30/100]: loss_d: 0.514, loss_g: 1.358\n",
            "[31/100]: loss_d: 0.531, loss_g: 1.308\n",
            "[32/100]: loss_d: 0.519, loss_g: 1.316\n",
            "[33/100]: loss_d: 0.531, loss_g: 1.276\n",
            "[34/100]: loss_d: 0.538, loss_g: 1.262\n",
            "[35/100]: loss_d: 0.535, loss_g: 1.273\n",
            "[36/100]: loss_d: 0.538, loss_g: 1.269\n",
            "[37/100]: loss_d: 0.537, loss_g: 1.253\n",
            "[38/100]: loss_d: 0.551, loss_g: 1.200\n",
            "Training Steps Completed:  499\n"
          ],
          "name": "stdout"
        },
        {
          "output_type": "display_data",
          "data": {
            "image/png": "[encoded data removed]",
            "text/plain": [
              "<Figure size 432x288 with 1 Axes>"
            ]
          },
          "metadata": {
            "tags": [],
            "needs_background": "light"
          }
        },
        {
          "output_type": "stream",
          "text": [
            "[39/100]: loss_d: 0.556, loss_g: 1.199\n",
            "[40/100]: loss_d: 0.555, loss_g: 1.189\n",
            "[41/100]: loss_d: 0.557, loss_g: 1.198\n",
            "[42/100]: loss_d: 0.563, loss_g: 1.176\n",
            "[43/100]: loss_d: 0.569, loss_g: 1.142\n",
            "[44/100]: loss_d: 0.567, loss_g: 1.141\n",
            "[45/100]: loss_d: 0.571, loss_g: 1.143\n",
            "[46/100]: loss_d: 0.572, loss_g: 1.116\n",
            "[47/100]: loss_d: 0.575, loss_g: 1.108\n",
            "[48/100]: loss_d: 0.578, loss_g: 1.108\n",
            "Training Steps Completed:  499\n"
          ],
          "name": "stdout"
        },
        {
          "output_type": "display_data",
          "data": {
            "image/png": "[encoded data removed]",
            "text/plain": [
              "<Figure size 432x288 with 1 Axes>"
            ]
          },
          "metadata": {
            "tags": [],
            "needs_background": "light"
          }
        },
        {
          "output_type": "stream",
          "text": [
            "[49/100]: loss_d: 0.577, loss_g: 1.108\n",
            "[50/100]: loss_d: 0.581, loss_g: 1.087\n",
            "[51/100]: loss_d: 0.586, loss_g: 1.073\n",
            "[52/100]: loss_d: 0.595, loss_g: 1.049\n",
            "[53/100]: loss_d: 0.587, loss_g: 1.078\n",
            "[54/100]: loss_d: 0.590, loss_g: 1.060\n",
            "[55/100]: loss_d: 0.593, loss_g: 1.042\n",
            "[56/100]: loss_d: 0.598, loss_g: 1.039\n",
            "[57/100]: loss_d: 0.598, loss_g: 1.022\n",
            "[58/100]: loss_d: 0.593, loss_g: 1.043\n",
            "Training Steps Completed:  499\n"
          ],
          "name": "stdout"
        },
        {
          "output_type": "display_data",
          "data": {
            "image/png": "[encoded data removed]",
            "text/plain": [
              "<Figure size 432x288 with 1 Axes>"
            ]
          },
          "metadata": {
            "tags": [],
            "needs_background": "light"
          }
        },
        {
          "output_type": "stream",
          "text": [
            "[59/100]: loss_d: 0.596, loss_g: 1.038\n",
            "[60/100]: loss_d: 0.600, loss_g: 1.026\n",
            "[61/100]: loss_d: 0.601, loss_g: 1.050\n",
            "[62/100]: loss_d: 0.595, loss_g: 1.047\n",
            "[63/100]: loss_d: 0.597, loss_g: 1.025\n",
            "[64/100]: loss_d: 0.605, loss_g: 1.022\n",
            "[65/100]: loss_d: 0.603, loss_g: 1.023\n",
            "[66/100]: loss_d: 0.604, loss_g: 1.019\n",
            "[67/100]: loss_d: 0.605, loss_g: 1.031\n",
            "[68/100]: loss_d: 0.600, loss_g: 1.032\n",
            "Training Steps Completed:  499\n"
          ],
          "name": "stdout"
        },
        {
          "output_type": "display_data",
          "data": {
            "image/png": "[encoded data removed]",
            "text/plain": [
              "<Figure size 432x288 with 1 Axes>"
            ]
          },
          "metadata": {
            "tags": [],
            "needs_background": "light"
          }
        },
        {
          "output_type": "stream",
          "text": [
            "[69/100]: loss_d: 0.607, loss_g: 0.998\n",
            "[70/100]: loss_d: 0.610, loss_g: 0.987\n",
            "[71/100]: loss_d: 0.608, loss_g: 1.009\n",
            "[72/100]: loss_d: 0.605, loss_g: 1.009\n",
            "[73/100]: loss_d: 0.607, loss_g: 1.004\n",
            "[74/100]: loss_d: 0.612, loss_g: 0.998\n",
            "[75/100]: loss_d: 0.614, loss_g: 0.979\n",
            "[76/100]: loss_d: 0.613, loss_g: 0.981\n",
            "[77/100]: loss_d: 0.617, loss_g: 0.979\n",
            "[78/100]: loss_d: 0.617, loss_g: 0.969\n",
            "Training Steps Completed:  499\n"
          ],
          "name": "stdout"
        },
        {
          "output_type": "display_data",
          "data": {
            "image/png": "[encoded data removed]",
            "text/plain": [
              "<Figure size 432x288 with 1 Axes>"
            ]
          },
          "metadata": {
            "tags": [],
            "needs_background": "light"
          }
        },
        {
          "output_type": "stream",
          "text": [
            "[79/100]: loss_d: 0.616, loss_g: 0.969\n",
            "[80/100]: loss_d: 0.617, loss_g: 0.971\n",
            "[81/100]: loss_d: 0.613, loss_g: 0.980\n",
            "[82/100]: loss_d: 0.621, loss_g: 0.955\n",
            "[83/100]: loss_d: 0.617, loss_g: 0.975\n",
            "[84/100]: loss_d: 0.621, loss_g: 0.950\n",
            "[85/100]: loss_d: 0.620, loss_g: 0.977\n",
            "[86/100]: loss_d: 0.620, loss_g: 0.966\n",
            "[87/100]: loss_d: 0.620, loss_g: 0.959\n",
            "[88/100]: loss_d: 0.622, loss_g: 0.952\n",
            "Training Steps Completed:  499\n"
          ],
          "name": "stdout"
        },
        {
          "output_type": "display_data",
          "data": {
            "image/png": "[encoded data removed]",
            "text/plain": [
              "<Figure size 432x288 with 1 Axes>"
            ]
          },
          "metadata": {
            "tags": [],
            "needs_background": "light"
          }
        },
        {
          "output_type": "stream",
          "text": [
            "[89/100]: loss_d: 0.617, loss_g: 0.985\n",
            "[90/100]: loss_d: 0.618, loss_g: 0.976\n",
            "[91/100]: loss_d: 0.620, loss_g: 0.959\n",
            "[92/100]: loss_d: 0.623, loss_g: 0.950\n",
            "[93/100]: loss_d: 0.624, loss_g: 0.942\n",
            "[94/100]: loss_d: 0.622, loss_g: 0.952\n",
            "[95/100]: loss_d: 0.623, loss_g: 0.948\n",
            "[96/100]: loss_d: 0.623, loss_g: 0.947\n",
            "[97/100]: loss_d: 0.626, loss_g: 0.933\n",
            "[98/100]: loss_d: 0.629, loss_g: 0.938\n",
            "Training Steps Completed:  499\n"
          ],
          "name": "stdout"
        },
        {
          "output_type": "display_data",
          "data": {
            "image/png": "[encoded data removed]",
            "text/plain": [
              "<Figure size 432x288 with 1 Axes>"
            ]
          },
          "metadata": {
            "tags": [],
            "needs_background": "light"
          }
        },
        {
          "output_type": "stream",
          "text": [
            "[99/100]: loss_d: 0.626, loss_g: 0.942\n"
          ],
          "name": "stdout"
        }
      ]
    }
  ]
}